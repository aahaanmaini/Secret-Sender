{
 "cells": [
  {
   "cell_type": "markdown",
   "metadata": {
    "id": "82gepOMA-qx-"
   },
   "source": [
    "Lib config"
   ]
  },
  {
   "cell_type": "code",
   "execution_count": null,
   "metadata": {
    "id": "JIky2OeT3eYM"
   },
   "outputs": [],
   "source": [
    "!pip install gspread oauth2client\n",
    "!pip install slackclient"
   ]
  },
  {
   "cell_type": "code",
   "execution_count": null,
   "metadata": {
    "id": "AUnRR3MmIMnp"
   },
   "outputs": [],
   "source": [
    "import slack\n",
    "import os\n",
    "import gspread\n",
    "from oauth2client.service_account import ServiceAccountCredentials\n",
    "import itertools\n",
    "import re\n",
    "import json\n",
    "from pathlib import Path\n",
    "import string"
   ]
  },
  {
   "cell_type": "markdown",
   "metadata": {
    "id": "8jQ_V8TB-wuo"
   },
   "source": [
    "Sheets Setup"
   ]
  },
  {
   "cell_type": "code",
   "execution_count": null,
   "metadata": {
    "id": "lYUfIpHSiSF2"
   },
   "outputs": [],
   "source": [
    "# run this cell twice so that empty sender cells get filled\n",
    "\n",
    "scope = [\"https://spreadsheets.google.com/feeds\",'https://www.googleapis.com/auth/spreadsheets',\"https://www.googleapis.com/auth/drive.file\",\"https://www.googleapis.com/auth/drive\"]\n",
    "\n",
    "creds = ServiceAccountCredentials.from_json_keyfile_name(\"key.json\", scope)\n",
    "\n",
    "client = gspread.authorize(creds)\n",
    "\n",
    "# sheet = client.open_by_key(\"1R7m9iV5D1Z1suMWybkbmumwxWrNVZbikFIGYAw5SqO4\").sheet1 # <- Mock TKSugar\n",
    "sheet = client.open_by_key(\"1h4PzQIynyQixCEp0tE0PJXOrXtDxGXriPBi-cZYm9ck\").sheet1  # <- TKSugar (Responses)\n",
    "\n",
    "#collect all values from given columns\n",
    "timestamp = sheet.col_values(1)\n",
    "recipient = sheet.col_values(2)\n",
    "message = sheet.col_values(3)\n",
    "identity = sheet.col_values(4)\n",
    "sendstatus = sheet.col_values(5)\n",
    "\n",
    "#loop through empty sender cells and write filler text\n",
    "for x in range(len(message)):\n",
    "  y = sheet.cell(col=4, row=x+1)\n",
    "  if y.value == None or not y.value:\n",
    "    sheet.update_cell(col=4, row= x+1, value= \"A Secret Someone...\")"
   ]
  },
  {
   "cell_type": "markdown",
   "metadata": {
    "id": "KRR2XIFuidZq"
   },
   "source": [
    "Sheets Scrape"
   ]
  },
  {
   "cell_type": "code",
   "execution_count": null,
   "metadata": {
    "id": "tU93RVMj-8P2"
   },
   "outputs": [],
   "source": [
    "#translator for unicode\n",
    "escapes = ''.join([chr(char) for char in range(1, 32)])\n",
    "translator = str.maketrans('', '', escapes)\n",
    "\n",
    "#create 2d array with each messages info\n",
    "peeps = []\n",
    "for (x, y, z, t, s, n) in itertools.zip_longest(recipient, message, identity, timestamp, sendstatus, range(len(message))):\n",
    "    x = ((x.lower()).strip()).replace(',', '')\n",
    "    y = y.translate(translator)\n",
    "    xy = []\n",
    "    xy.extend([x, str(y), z, t, n+1, s])\n",
    "    peeps.append(xy)\n",
    "\n",
    "#pop 1st index to del header row from array\n",
    "peeps.pop(0)\n",
    "\n",
    "#popping all indexes with sent status\n",
    "for person in list(peeps):\n",
    "\n",
    "  if person[5] == \"sent\":\n",
    "    peeps.pop(peeps.index(person))\n",
    "\n",
    "print(peeps)\n"
   ]
  },
  {
   "cell_type": "markdown",
   "metadata": {
    "id": "jDZzYSngEpVv"
   },
   "source": [
    "Debug sheets\n"
   ]
  },
  {
   "cell_type": "code",
   "execution_count": null,
   "metadata": {
    "id": "qw0FaIe1Eitr"
   },
   "outputs": [],
   "source": [
    "escapes = ''.join([chr(char) for char in range(1, 32)])\n",
    "translator = str.maketrans('', '', escapes)\n",
    "# .translate(translator)"
   ]
  },
  {
   "cell_type": "markdown",
   "metadata": {
    "id": "O_7xvjmG7Qj9"
   },
   "source": [
    "Slack Main\n"
   ]
  },
  {
   "cell_type": "code",
   "execution_count": null,
   "metadata": {
    "id": "5lwn_I7J-k_1"
   },
   "outputs": [],
   "source": [
    "SLACK_TOKEN= \"XXXXX-427480842549-1597618771813-Dsq5xvSnD1PTzTBXk8Tfy6w0\"\n",
    "\n",
    "client = slack.WebClient(SLACK_TOKEN)\n",
    "\n",
    "users_store = {}\n",
    "users_first = {}\n",
    "\n",
    "result = client.users_list(workspace= \"TCKE4QSG5\")\n",
    "\n",
    "#array with all member info\n",
    "save_users=(result[\"members\"])\n",
    "\n",
    "#loop through member info to create 2 lists with member ids\n",
    "for user in save_users:\n",
    "  user_name = user[\"profile\"][\"real_name\"]\n",
    "  x = user_name.split()\n",
    "\n",
    "#if member info includes both first and last name, append to this list\n",
    "  if len(x) > 1:\n",
    "    users_store[user_name.lower()] = user[\"id\"]\n",
    "\n",
    "#if member info only includes first name, append to this list\n",
    "  else:\n",
    "     users_first[user_name.lower()] = user[\"id\"]\n",
    "\n",
    "#looping through 2d array\n",
    "for person in peeps:\n",
    "\n",
    "  name = person[0]\n",
    "  message = person[1]\n",
    "  sender = person[2]\n",
    "\n",
    "#first tries to search for member id in array with both first name and last name as key\n",
    "  try:\n",
    "    person_ID = [val for key, val in users_store.items() if name in key]\n",
    "\n",
    "    client.chat_postMessage(channel= person_ID[0], text =(\"\"\"You recieved an amazing valentines wish from {}\n",
    "    {}\"\"\").format(sender, message))\n",
    "\n",
    "#updates sent status in spreadsheet\n",
    "    sheet.update_cell(col=5, row= int(person[4]), value= \"sent\")\n",
    "\n",
    "    print(person_ID, name, \" Success!\")\n",
    "\n",
    "  except IndexError:\n",
    "\n",
    "#if first search fails, tries to seach for member id in array with only first name as key\n",
    "    try:\n",
    "      x = name.split()\n",
    "      name = x[0]\n",
    "      person_ID = [val for key, val in users_first.items() if name in key]\n",
    "\n",
    "      client.chat_postMessage(channel= person_ID[0], text =(\"\"\"You recieved an amazing valentines wish from {}\n",
    "      {}\"\"\").format(sender, message))\n",
    "\n",
    "#updates sent status in spreadsheet\n",
    "      sheet.update_cell(col=5, row= int(person[4]), value= \"sent\")\n",
    "\n",
    "      print(person_ID, name, \" Success!\")\n",
    "\n",
    "    except IndexError:\n",
    "      print(\"Failed to send! Either name is spelt wrong or {} is outside of TKS Toronto\".format(name))\n",
    "\n"
   ]
  },
  {
   "cell_type": "markdown",
   "metadata": {
    "id": "6CfHQjjkEy1p"
   },
   "source": [
    "Debug Slack\n",
    "\n"
   ]
  },
  {
   "cell_type": "code",
   "execution_count": null,
   "metadata": {
    "id": "B13_hp5CExyv"
   },
   "outputs": [],
   "source": [
    "name = peeps[0][0]\n",
    "message = peeps[0][1]\n",
    "sender = peeps[0][2]\n",
    "person_ID = \"U01A54SSBNE\"\n",
    "\n",
    "client.chat_postMessage(channel= \"U01A54SSBNE\", text =(\"\"\"You received an amazing valentines wish from {}\n",
    "{}\"\"\").format(sender, message))\n",
    "\n",
    "sheet.update_cell(col=5, row= int(peeps[0][4]), value= \"sent\")\n"
   ]
  }
 ],
 "metadata": {
  "colab": {
   "provenance": []
  },
  "kernelspec": {
   "display_name": "Python 3",
   "name": "python3"
  }
 },
 "nbformat": 4,
 "nbformat_minor": 0
}
